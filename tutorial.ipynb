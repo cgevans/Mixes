{
 "cells": [
  {
   "cell_type": "code",
   "execution_count": 1,
   "id": "a31ad33c-2bcb-4fb4-bb8d-9c0f790cdd16",
   "metadata": {},
   "outputs": [],
   "source": [
    "from mixes import *"
   ]
  },
  {
   "cell_type": "markdown",
   "id": "0be0c2b1-2cbf-4559-8408-6fece2066b34",
   "metadata": {},
   "source": [
    "# Concepts"
   ]
  },
  {
   "cell_type": "markdown",
   "id": "a8dccdf4-0c8f-4b37-99f7-6a06c1b71bf7",
   "metadata": {},
   "source": [
    "Mixes ..."
   ]
  },
  {
   "cell_type": "markdown",
   "id": "2e49a23f-a0d9-469b-b0f5-e0fe6e0b0a0c",
   "metadata": {},
   "source": [
    "## Components"
   ]
  },
  {
   "cell_type": "markdown",
   "id": "3539d646-cf10-4244-a95c-78cf896d7b16",
   "metadata": {},
   "source": [
    "Components ..."
   ]
  },
  {
   "cell_type": "markdown",
   "id": "dc4c5667-9bea-42f6-920b-5acb080c30cb",
   "metadata": {},
   "source": [
    "The base `Component` class is meant to usable generically.  For example, we might have a solution of MgCl₂ that we'd like to use to make a Mg-added buffer."
   ]
  },
  {
   "cell_type": "code",
   "execution_count": 2,
   "id": "2bdfe6f1-d709-42fd-a944-1e719f429580",
   "metadata": {},
   "outputs": [
    {
     "name": "stdout",
     "output_type": "stream",
     "text": [
      "Component(name='MgCl₂', concentration=<Quantity(1, 'molar')>, plate='', well=None)\n"
     ]
    }
   ],
   "source": [
    "mg = Component(\"MgCl₂\", \"1 M\")\n",
    "print(mg)"
   ]
  },
  {
   "cell_type": "markdown",
   "id": "3d3e7494-e210-4cac-8b5e-504ef33a71d0",
   "metadata": {},
   "source": [
    "Like many components in mixes, the concentration is easiest to enter as a string.  mixes uses the [pint](https://github.com/hgrecco/pint) library to handle units, and Python's [decimal](FIXME) library to avoid imprecision in calculations.  It does this as transparently as possible: you can enter most values with units as either a string, or a pint Quantity, and they will be converted correctly.  You can use `Q_` as a shorthand to create a Quantity from a string, or a number for the value and string for the units.  The input should be quite flexible, for example:"
   ]
  },
  {
   "cell_type": "code",
   "execution_count": 3,
   "id": "343c443b-ae8c-42b2-9ba3-f3673a5509e2",
   "metadata": {},
   "outputs": [
    {
     "data": {
      "text/plain": [
       "True"
      ]
     },
     "execution_count": 3,
     "metadata": {},
     "output_type": "execute_result"
    }
   ],
   "source": [
    "Q_(\"5 µM\") == Q_(5, \"µM\") == Q_(\"5 micromolar\") == Q_(\"5 pmol / microliter\")"
   ]
  },
  {
   "cell_type": "markdown",
   "id": "15dd73ef-f553-4de6-8ade-7ca69c5136eb",
   "metadata": {},
   "source": [
    "In addition to having a name and a concentration, a component can have a location (currently using the `plate` property), and, if the location is a plate name, can also be given a `well`."
   ]
  },
  {
   "cell_type": "markdown",
   "id": "4f5d6d50-c791-484f-87bc-8edcf98d3442",
   "metadata": {},
   "source": [
    "## Actions and Mixes"
   ]
  },
  {
   "cell_type": "markdown",
   "id": "45b5035e-f517-45d0-a370-03c9a492ef38",
   "metadata": {},
   "source": [
    "mixes combines Components into Mixes through Actions.  Actions specify what we'd like to do with a component, or a list of components, when we add them to a mix.  For example, we might want to make a buffer stock with 125 mM of MgCl₂ in it, in which case we could use the `FixedConcentration` action, which adds a single component at a fixed target concentration:"
   ]
  },
  {
   "cell_type": "code",
   "execution_count": 6,
   "id": "4ee1554a-2e9e-420f-88e5-744786529a4c",
   "metadata": {},
   "outputs": [
    {
     "name": "stdout",
     "output_type": "stream",
     "text": [
      "FixedConcentration(component=Component(name='MgCl₂', concentration=<Quantity(1, 'molar')>, plate='', well=None), fixed_concentration=<Quantity(125, 'millimolar')>)\n"
     ]
    }
   ],
   "source": [
    "add_mg = FixedConcentration(mg, \"125 mM\")"
   ]
  },
  {
   "cell_type": "markdown",
   "id": "3e75ce8f-e63e-4608-924e-631070dc08eb",
   "metadata": {},
   "source": [
    "A `Mix`, then, is a list of these actions, together with some overall properties, like a name or "
   ]
  },
  {
   "cell_type": "code",
   "execution_count": 9,
   "id": "b6f72a8c-c952-493b-96c7-cebacaff5dc8",
   "metadata": {},
   "outputs": [],
   "source": [
    "mg_buffer = Mix([add_mg], \"10× Mg\", fixed_total_volume=\"1 mL\")"
   ]
  },
  {
   "cell_type": "code",
   "execution_count": 10,
   "id": "eca33bd6-33d9-4c1b-bfb7-de6fd35a3b44",
   "metadata": {},
   "outputs": [
    {
     "data": {
      "text/markdown": [
       "Table: Mix: 10× Mg, Conc: 125.00 mM, Total Vol: 1.00 ml\n",
       "\n",
       "| Component   | [Src]   | [Dest]      | #   | Ea Tx Vol   | Tot Tx Vol   | Location   | Note   |\n",
       "|:------------|:--------|:------------|:----|:------------|:-------------|:-----------|:-------|\n",
       "| MgCl₂       | 1.00 M  | 125.00 mM   |     | 125.00 µl   | 125.00 µl    |            |        |\n",
       "| Buffer      |         |             |     | 875.00 µl   | 875.00 µl    |            |        |\n",
       "| *Total:*    |         | *125.00 mM* | *2* |             | *1.00 ml*    |            |        |"
      ],
      "text/plain": [
       "Mix(\"10× Mg\", 1 actions)"
      ]
     },
     "execution_count": 10,
     "metadata": {},
     "output_type": "execute_result"
    }
   ],
   "source": [
    "mg_buffer"
   ]
  },
  {
   "cell_type": "markdown",
   "id": "31a0b56d-c002-4798-a9e3-71a60383ad8b",
   "metadata": {},
   "source": [
    "As we will see later, a `Mix` itself can also be a component in other mixes."
   ]
  },
  {
   "cell_type": "markdown",
   "id": "d80fe499-f4cc-4928-8c72-0393f6357958",
   "metadata": {},
   "source": [
    "# Strands and References"
   ]
  },
  {
   "cell_type": "markdown",
   "id": "19ec5335-60a9-4093-9539-2429f2a63bc5",
   "metadata": {},
   "source": [
    "A `Strand` is a type of component that also keeps track of a sequence:"
   ]
  },
  {
   "cell_type": "code",
   "execution_count": 14,
   "id": "2b5ffc8d-5b65-496f-9b00-6eee1ff28fc9",
   "metadata": {},
   "outputs": [
    {
     "data": {
      "text/plain": [
       "Strand(name='S1', concentration=<Quantity(100, 'micromolar')>, plate='', well=None, sequence='AGAAT')"
      ]
     },
     "execution_count": 14,
     "metadata": {},
     "output_type": "execute_result"
    }
   ],
   "source": [
    "Strand(\"S1\", concentration=\"100 µM\", sequence=\"AGAAT\")"
   ]
  },
  {
   "cell_type": "markdown",
   "id": "443d471a-9f47-4a91-9608-2ce5b627f294",
   "metadata": {},
   "source": [
    "Specifying all properties of every component in code would be time consuming and error prone.  Instead, we can specify the components without all properties, or even with just a name, and then use a `Reference` to add information to them.  Here, we'll create a simple reference as (fake) csv file:"
   ]
  },
  {
   "cell_type": "code",
   "execution_count": 20,
   "id": "ea501c73-6f31-4625-badd-a06df00c0dd9",
   "metadata": {},
   "outputs": [],
   "source": [
    "import io\n",
    "# Columns are \"Name\", \"Plate\", \"Well\", \"Concentration (nM)\", \"Sequence\"\n",
    "csv_file = io.StringIO(\"\"\"\n",
    "Name,Plate,Well,\"Concentration (nM)\",Sequence\n",
    "S1,plate1,A2,100000,AGAAT\n",
    "S2,plate1,A3,125000,GTTCT\n",
    "\"\"\")\n",
    "\n",
    "ref = Reference.from_csv(csv_file)"
   ]
  },
  {
   "cell_type": "markdown",
   "id": "6181e33d-827a-4649-827c-4ae45eb851b1",
   "metadata": {},
   "source": [
    "Now, we can use `.with_reference` to add information:"
   ]
  },
  {
   "cell_type": "code",
   "execution_count": 21,
   "id": "60cf0b27-b331-4aa1-8143-ea447f88aa09",
   "metadata": {},
   "outputs": [
    {
     "data": {
      "text/plain": [
       "Strand(name='S2', concentration=<Quantity(NaN, 'nanomolar')>, plate='', well=None, sequence=None)"
      ]
     },
     "execution_count": 21,
     "metadata": {},
     "output_type": "execute_result"
    }
   ],
   "source": [
    "Strand(\"S2\")"
   ]
  },
  {
   "cell_type": "code",
   "execution_count": 22,
   "id": "7540118c-99a4-45e3-8176-c6331d4fc7bc",
   "metadata": {},
   "outputs": [
    {
     "data": {
      "text/plain": [
       "Strand(name='S2', concentration=<Quantity(125.000000, 'micromolar')>, plate='plate1', well=WellPos(\"A3\"), sequence='GTTCT')"
      ]
     },
     "execution_count": 22,
     "metadata": {},
     "output_type": "execute_result"
    }
   ],
   "source": [
    "Strand(\"S2\").with_reference(ref)"
   ]
  },
  {
   "cell_type": "markdown",
   "id": "777fc940-6648-4cbd-90dc-9718ce7a72c3",
   "metadata": {},
   "source": [
    "## Larger mixes"
   ]
  },
  {
   "cell_type": "code",
   "execution_count": 35,
   "id": "adef04c0-e8c5-499c-ab63-0cfad278fbb2",
   "metadata": {},
   "outputs": [],
   "source": [
    "ref = ref"
   ]
  },
  {
   "cell_type": "code",
   "execution_count": 33,
   "id": "29ac806d-7aab-460b-a10f-3b6a7a296cf9",
   "metadata": {},
   "outputs": [],
   "source": [
    "strandmix1 = Mix(\n",
    "    [MultiFixedVolume(\n",
    "        components=[Strand(f\"S{x}\") for x in range(0,10)],\n",
    "        fixed_volume=\"2 µL\"\n",
    "    )], \"strand mix A\"\n",
    ").with_reference(ref)\n",
    "strandmix1"
   ]
  },
  {
   "cell_type": "code",
   "execution_count": 34,
   "id": "29ff1d08-8812-4917-8c46-dfe6cff9d99e",
   "metadata": {},
   "outputs": [],
   "source": [
    "strandmix2 = Mix(\n",
    "    [MultiFixedConcentration(\n",
    "        components=[Strand(f\"S{x}\") for x in range(10,20)],\n",
    "        fixed_concentration=\"1 µM\"\n",
    "    )], \"strand mix B\"\n",
    ").with_reference(ref)\n",
    "strandmix2"
   ]
  },
  {
   "cell_type": "markdown",
   "id": "b435da5a-570f-40e1-b7d0-a62ccb6ac982",
   "metadata": {},
   "source": [
    "With strands on plates..."
   ]
  },
  {
   "cell_type": "code",
   "execution_count": 39,
   "id": "2cb6e775-4096-4950-8531-46b8865217de",
   "metadata": {},
   "outputs": [],
   "source": [
    "sample1 = Mix(\n",
    "    [\n",
    "        FixedConcentration(strandmix1, \"500 nM\"),\n",
    "        FixedConcentration(strandmix2, \"100 nM\"),\n",
    "        FixedConcentration(mg_buffer, \"12.5 mM\")\n",
    "    ],\n",
    "    name = \"Sample 1\",\n",
    "    fixed_total_volume = \"100 µL\"\n",
    ")"
   ]
  },
  {
   "cell_type": "markdown",
   "id": "c0463bb7-f51a-44ae-8b86-c2dce21a0238",
   "metadata": {},
   "source": [
    "In addition to seeing the series of recipes above..."
   ]
  },
  {
   "cell_type": "code",
   "execution_count": 38,
   "id": "bbe213d0-bc7c-44a7-b75f-7f10b7d48800",
   "metadata": {},
   "outputs": [
    {
     "data": {
      "text/plain": [
       "\u001b[0;31mInit signature:\u001b[0m\n",
       "\u001b[0mMix\u001b[0m\u001b[0;34m(\u001b[0m\u001b[0;34m\u001b[0m\n",
       "\u001b[0;34m\u001b[0m    \u001b[0mactions\u001b[0m\u001b[0;34m:\u001b[0m \u001b[0;34m'Sequence[AbstractAction]'\u001b[0m\u001b[0;34m,\u001b[0m\u001b[0;34m\u001b[0m\n",
       "\u001b[0;34m\u001b[0m    \u001b[0mname\u001b[0m\u001b[0;34m:\u001b[0m \u001b[0;34m'str'\u001b[0m\u001b[0;34m,\u001b[0m\u001b[0;34m\u001b[0m\n",
       "\u001b[0;34m\u001b[0m    \u001b[0mbuffer_name\u001b[0m\u001b[0;34m:\u001b[0m \u001b[0;34m'str'\u001b[0m \u001b[0;34m=\u001b[0m \u001b[0;34m'Buffer'\u001b[0m\u001b[0;34m,\u001b[0m\u001b[0;34m\u001b[0m\n",
       "\u001b[0;34m\u001b[0m    \u001b[0mreference\u001b[0m\u001b[0;34m:\u001b[0m \u001b[0;34m'Reference | None'\u001b[0m \u001b[0;34m=\u001b[0m \u001b[0;32mNone\u001b[0m\u001b[0;34m,\u001b[0m\u001b[0;34m\u001b[0m\n",
       "\u001b[0;34m\u001b[0m    \u001b[0;34m*\u001b[0m\u001b[0;34m,\u001b[0m\u001b[0;34m\u001b[0m\n",
       "\u001b[0;34m\u001b[0m    \u001b[0mtest_tube_name\u001b[0m\u001b[0;34m:\u001b[0m \u001b[0;34m'str | None'\u001b[0m \u001b[0;34m=\u001b[0m \u001b[0;32mNone\u001b[0m\u001b[0;34m,\u001b[0m\u001b[0;34m\u001b[0m\n",
       "\u001b[0;34m\u001b[0m    \u001b[0mfixed_total_volume\u001b[0m\u001b[0;34m:\u001b[0m \u001b[0;34m'str | pint.Quantity'\u001b[0m \u001b[0;34m=\u001b[0m \u001b[0;34m<\u001b[0m\u001b[0mQuantity\u001b[0m\u001b[0;34m(\u001b[0m\u001b[0mNaN\u001b[0m\u001b[0;34m,\u001b[0m \u001b[0;34m'microliter'\u001b[0m\u001b[0;34m)\u001b[0m\u001b[0;34m>\u001b[0m\u001b[0;34m,\u001b[0m\u001b[0;34m\u001b[0m\n",
       "\u001b[0;34m\u001b[0m    \u001b[0mfixed_concentration\u001b[0m\u001b[0;34m:\u001b[0m \u001b[0;34m'str | Quantity[Decimal] | None'\u001b[0m \u001b[0;34m=\u001b[0m \u001b[0;32mNone\u001b[0m\u001b[0;34m,\u001b[0m\u001b[0;34m\u001b[0m\n",
       "\u001b[0;34m\u001b[0m    \u001b[0mmin_volume\u001b[0m\u001b[0;34m:\u001b[0m \u001b[0;34m'str | pint.Quantity'\u001b[0m \u001b[0;34m=\u001b[0m \u001b[0;34m<\u001b[0m\u001b[0mQuantity\u001b[0m\u001b[0;34m(\u001b[0m\u001b[0;36m0.5\u001b[0m\u001b[0;34m,\u001b[0m \u001b[0;34m'microliter'\u001b[0m\u001b[0;34m)\u001b[0m\u001b[0;34m>\u001b[0m\u001b[0;34m,\u001b[0m\u001b[0;34m\u001b[0m\n",
       "\u001b[0;34m\u001b[0m\u001b[0;34m)\u001b[0m \u001b[0;34m->\u001b[0m \u001b[0;32mNone\u001b[0m\u001b[0;34m\u001b[0m\u001b[0;34m\u001b[0m\u001b[0m\n",
       "\u001b[0;31mDocstring:\u001b[0m     \n",
       "Class denoting a Mix, a collection of source components mixed to\n",
       "some volume or concentration.\n",
       "\u001b[0;31mInit docstring:\u001b[0m Method generated by attrs for class Mix.\n",
       "\u001b[0;31mFile:\u001b[0m           ~/.local/lib/python3.10/site-packages/hieromix/mixes.py\n",
       "\u001b[0;31mType:\u001b[0m           ABCMeta\n",
       "\u001b[0;31mSubclasses:\u001b[0m     \n"
      ]
     },
     "metadata": {},
     "output_type": "display_data"
    }
   ],
   "source": [
    "sample1.all_components()"
   ]
  },
  {
   "cell_type": "code",
   "execution_count": null,
   "id": "e274e36b-f596-4574-a7c3-1a0f06aacdcd",
   "metadata": {},
   "outputs": [],
   "source": []
  }
 ],
 "metadata": {
  "kernelspec": {
   "display_name": "Python 3 (ipykernel)",
   "language": "python",
   "name": "python3"
  },
  "language_info": {
   "codemirror_mode": {
    "name": "ipython",
    "version": 3
   },
   "file_extension": ".py",
   "mimetype": "text/x-python",
   "name": "python",
   "nbconvert_exporter": "python",
   "pygments_lexer": "ipython3",
   "version": "3.10.4"
  }
 },
 "nbformat": 4,
 "nbformat_minor": 5
}
